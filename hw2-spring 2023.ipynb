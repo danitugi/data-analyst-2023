{
 "cells": [
  {
   "cell_type": "code",
   "execution_count": 1,
   "id": "2f081b79-7480-4760-a4df-c7d8525604a7",
   "metadata": {},
   "outputs": [],
   "source": [
    "import numpy as np\n",
    "import pandas as pd"
   ]
  },
  {
   "cell_type": "markdown",
   "id": "79d598a3-a908-45ae-bcc8-ce8fb7eb0ade",
   "metadata": {
    "tags": []
   },
   "source": [
    "# Identify:\n",
    "\n",
    "Please fill-in your ID in the following cell, **only id numbers, no names!**\n"
   ]
  },
  {
   "cell_type": "code",
   "execution_count": 2,
   "id": "3fe7d342-1f0e-418c-9d89-864073886603",
   "metadata": {},
   "outputs": [],
   "source": [
    "id1 = \"318465291\"\n",
    "id2 = \"123456789\""
   ]
  },
  {
   "cell_type": "code",
   "execution_count": 3,
   "id": "b360d199-879b-4bae-bbdc-c3a14f85d392",
   "metadata": {},
   "outputs": [],
   "source": [
    "df = pd.DataFrame([id1])"
   ]
  },
  {
   "cell_type": "markdown",
   "id": "633e3244-493a-4613-babf-5dfb786f0706",
   "metadata": {},
   "source": [
    "Uncomment in case two students are doing the assignment together:"
   ]
  },
  {
   "cell_type": "code",
   "execution_count": 4,
   "id": "3e3090cd-b9b3-4435-afc5-721c5587f8ef",
   "metadata": {},
   "outputs": [],
   "source": [
    "#df = pd.DataFrame([id1,id2])"
   ]
  },
  {
   "cell_type": "code",
   "execution_count": 5,
   "id": "c2374c78-64c3-4d7c-9e78-7ab0c9003b45",
   "metadata": {},
   "outputs": [],
   "source": [
    "df.to_clipboard(index=False,header=False)"
   ]
  },
  {
   "cell_type": "markdown",
   "id": "069d6ea5-8ac2-4cbb-813d-fd3bde53e352",
   "metadata": {},
   "source": [
    "Please fill your names here:"
   ]
  },
  {
   "cell_type": "markdown",
   "id": "e3a4ab81-0938-48ad-878d-1335c8474e51",
   "metadata": {},
   "source": [
    "Daniel tugendhaft"
   ]
  },
  {
   "cell_type": "markdown",
   "id": "d2b60456-295d-4052-8fca-a7804cdc4b36",
   "metadata": {
    "tags": []
   },
   "source": [
    "# Q1"
   ]
  },
  {
   "cell_type": "code",
   "execution_count": 6,
   "id": "8c726250-0e3c-4212-ace0-c729b42e78be",
   "metadata": {},
   "outputs": [
    {
     "name": "stderr",
     "output_type": "stream",
     "text": [
      "/var/folders/1n/l8xnr__x38x4jqs4jb3_b1_w0000gp/T/ipykernel_18758/105516896.py:2: DtypeWarning: Columns (6,12,14) have mixed types. Specify dtype option on import or set low_memory=False.\n",
      "  aws_df = pd.read_csv(url)\n"
     ]
    }
   ],
   "source": [
    "url = 'https://raw.githubusercontent.com/nlihin/data-analytics/main/datasets/aircraft%20wildlife%20strikes.csv'\n",
    "aws_df = pd.read_csv(url)"
   ]
  },
  {
   "cell_type": "code",
   "execution_count": 7,
   "id": "f9976289-93d4-47fe-9622-d278d9325211",
   "metadata": {},
   "outputs": [
    {
     "data": {
      "text/html": [
       "<div>\n",
       "<style scoped>\n",
       "    .dataframe tbody tr th:only-of-type {\n",
       "        vertical-align: middle;\n",
       "    }\n",
       "\n",
       "    .dataframe tbody tr th {\n",
       "        vertical-align: top;\n",
       "    }\n",
       "\n",
       "    .dataframe thead th {\n",
       "        text-align: right;\n",
       "    }\n",
       "</style>\n",
       "<table border=\"1\" class=\"dataframe\">\n",
       "  <thead>\n",
       "    <tr style=\"text-align: right;\">\n",
       "      <th></th>\n",
       "      <th>nulls</th>\n",
       "    </tr>\n",
       "  </thead>\n",
       "  <tbody>\n",
       "    <tr>\n",
       "      <th>Airport</th>\n",
       "      <td>290</td>\n",
       "    </tr>\n",
       "    <tr>\n",
       "      <th>Height</th>\n",
       "      <td>59749</td>\n",
       "    </tr>\n",
       "    <tr>\n",
       "      <th>Speed</th>\n",
       "      <td>84565</td>\n",
       "    </tr>\n",
       "    <tr>\n",
       "      <th>Species Quantity</th>\n",
       "      <td>4125</td>\n",
       "    </tr>\n",
       "    <tr>\n",
       "      <th>Injuries</th>\n",
       "      <td>134882</td>\n",
       "    </tr>\n",
       "  </tbody>\n",
       "</table>\n",
       "</div>"
      ],
      "text/plain": [
       "                   nulls\n",
       "Airport              290\n",
       "Height             59749\n",
       "Speed              84565\n",
       "Species Quantity    4125\n",
       "Injuries          134882"
      ]
     },
     "execution_count": 7,
     "metadata": {},
     "output_type": "execute_result"
    }
   ],
   "source": [
    "aws_df[[\"Airport\",\"Height\",\"Speed\",\"Species Quantity\",\"Injuries\"]].isnull().sum().to_frame('nulls')"
   ]
  },
  {
   "cell_type": "markdown",
   "id": "5e36f3c1-1e1c-43bc-ae6e-39a4741c34a8",
   "metadata": {},
   "source": [
    "# Q2"
   ]
  },
  {
   "cell_type": "code",
   "execution_count": 8,
   "id": "b96d0bbf-2174-4817-97ce-77321005f9ac",
   "metadata": {},
   "outputs": [],
   "source": [
    "aws_df[\"Species Quantity\"] = aws_df[\"Species Quantity\"].fillna('unreported')"
   ]
  },
  {
   "cell_type": "code",
   "execution_count": 9,
   "id": "43f2a55d-0f64-452a-a9b4-875fcf2844b5",
   "metadata": {},
   "outputs": [
    {
     "data": {
      "text/plain": [
       "array(['1', '02-Oct', 'unreported', '11-100', 'Over 100'], dtype=object)"
      ]
     },
     "execution_count": 9,
     "metadata": {},
     "output_type": "execute_result"
    }
   ],
   "source": [
    "aws_df[\"Species Quantity\"].unique()"
   ]
  },
  {
   "cell_type": "markdown",
   "id": "57fc7401-53b7-4622-a02b-105fef7ee10f",
   "metadata": {},
   "source": [
    "# Q3"
   ]
  },
  {
   "cell_type": "code",
   "execution_count": 10,
   "id": "b754e264-3133-4d1b-a343-9fec37ba5756",
   "metadata": {},
   "outputs": [
    {
     "data": {
      "text/html": [
       "<div>\n",
       "<style scoped>\n",
       "    .dataframe tbody tr th:only-of-type {\n",
       "        vertical-align: middle;\n",
       "    }\n",
       "\n",
       "    .dataframe tbody tr th {\n",
       "        vertical-align: top;\n",
       "    }\n",
       "\n",
       "    .dataframe thead th {\n",
       "        text-align: right;\n",
       "    }\n",
       "</style>\n",
       "<table border=\"1\" class=\"dataframe\">\n",
       "  <thead>\n",
       "    <tr style=\"text-align: right;\">\n",
       "      <th></th>\n",
       "      <th>Quantity</th>\n",
       "    </tr>\n",
       "    <tr>\n",
       "      <th>Species Quantity</th>\n",
       "      <th></th>\n",
       "    </tr>\n",
       "  </thead>\n",
       "  <tbody>\n",
       "    <tr>\n",
       "      <th>1</th>\n",
       "      <td>114880</td>\n",
       "    </tr>\n",
       "    <tr>\n",
       "      <th>02-Oct</th>\n",
       "      <td>15187</td>\n",
       "    </tr>\n",
       "    <tr>\n",
       "      <th>unreported</th>\n",
       "      <td>4125</td>\n",
       "    </tr>\n",
       "    <tr>\n",
       "      <th>11-100</th>\n",
       "      <td>794</td>\n",
       "    </tr>\n",
       "    <tr>\n",
       "      <th>Over 100</th>\n",
       "      <td>22</td>\n",
       "    </tr>\n",
       "  </tbody>\n",
       "</table>\n",
       "</div>"
      ],
      "text/plain": [
       "                  Quantity\n",
       "Species Quantity          \n",
       "1                   114880\n",
       "02-Oct               15187\n",
       "unreported            4125\n",
       "11-100                 794\n",
       "Over 100                22"
      ]
     },
     "execution_count": 10,
     "metadata": {},
     "output_type": "execute_result"
    }
   ],
   "source": [
    "SpeciesQuantity_counts = pd.DataFrame(aws_df[[\"Species Quantity\"]].value_counts(), columns = ['Quantity'])\n",
    "SpeciesQuantity_counts"
   ]
  },
  {
   "cell_type": "code",
   "execution_count": 11,
   "id": "b9534658-7a40-4824-8a72-a1906b600da9",
   "metadata": {},
   "outputs": [
    {
     "data": {
      "text/html": [
       "<div>\n",
       "<style scoped>\n",
       "    .dataframe tbody tr th:only-of-type {\n",
       "        vertical-align: middle;\n",
       "    }\n",
       "\n",
       "    .dataframe tbody tr th {\n",
       "        vertical-align: top;\n",
       "    }\n",
       "\n",
       "    .dataframe thead th {\n",
       "        text-align: right;\n",
       "    }\n",
       "</style>\n",
       "<table border=\"1\" class=\"dataframe\">\n",
       "  <thead>\n",
       "    <tr style=\"text-align: right;\">\n",
       "      <th></th>\n",
       "      <th>Species Quantity</th>\n",
       "      <th>Quantity</th>\n",
       "    </tr>\n",
       "  </thead>\n",
       "  <tbody>\n",
       "    <tr>\n",
       "      <th>0</th>\n",
       "      <td>1</td>\n",
       "      <td>114880</td>\n",
       "    </tr>\n",
       "    <tr>\n",
       "      <th>1</th>\n",
       "      <td>02-Oct</td>\n",
       "      <td>15187</td>\n",
       "    </tr>\n",
       "    <tr>\n",
       "      <th>2</th>\n",
       "      <td>unreported</td>\n",
       "      <td>4125</td>\n",
       "    </tr>\n",
       "    <tr>\n",
       "      <th>3</th>\n",
       "      <td>11-100</td>\n",
       "      <td>794</td>\n",
       "    </tr>\n",
       "    <tr>\n",
       "      <th>4</th>\n",
       "      <td>Over 100</td>\n",
       "      <td>22</td>\n",
       "    </tr>\n",
       "  </tbody>\n",
       "</table>\n",
       "</div>"
      ],
      "text/plain": [
       "  Species Quantity  Quantity\n",
       "0                1    114880\n",
       "1           02-Oct     15187\n",
       "2       unreported      4125\n",
       "3           11-100       794\n",
       "4         Over 100        22"
      ]
     },
     "execution_count": 11,
     "metadata": {},
     "output_type": "execute_result"
    }
   ],
   "source": [
    "SpeciesQuantity_counts.reset_index()"
   ]
  },
  {
   "cell_type": "code",
   "execution_count": 12,
   "id": "62e70399-641b-40aa-b321-0453d5016589",
   "metadata": {},
   "outputs": [
    {
     "data": {
      "text/html": [
       "<div>\n",
       "<style scoped>\n",
       "    .dataframe tbody tr th:only-of-type {\n",
       "        vertical-align: middle;\n",
       "    }\n",
       "\n",
       "    .dataframe tbody tr th {\n",
       "        vertical-align: top;\n",
       "    }\n",
       "\n",
       "    .dataframe thead th {\n",
       "        text-align: right;\n",
       "    }\n",
       "</style>\n",
       "<table border=\"1\" class=\"dataframe\">\n",
       "  <thead>\n",
       "    <tr style=\"text-align: right;\">\n",
       "      <th></th>\n",
       "      <th>Species Quantity</th>\n",
       "      <th>Quantity</th>\n",
       "    </tr>\n",
       "  </thead>\n",
       "  <tbody>\n",
       "    <tr>\n",
       "      <th>0</th>\n",
       "      <td>1</td>\n",
       "      <td>114880</td>\n",
       "    </tr>\n",
       "    <tr>\n",
       "      <th>1</th>\n",
       "      <td>2-10</td>\n",
       "      <td>15187</td>\n",
       "    </tr>\n",
       "    <tr>\n",
       "      <th>2</th>\n",
       "      <td>unreported</td>\n",
       "      <td>4125</td>\n",
       "    </tr>\n",
       "    <tr>\n",
       "      <th>3</th>\n",
       "      <td>11-100</td>\n",
       "      <td>794</td>\n",
       "    </tr>\n",
       "    <tr>\n",
       "      <th>4</th>\n",
       "      <td>Over 100</td>\n",
       "      <td>22</td>\n",
       "    </tr>\n",
       "  </tbody>\n",
       "</table>\n",
       "</div>"
      ],
      "text/plain": [
       "  Species Quantity  Quantity\n",
       "0                1    114880\n",
       "1             2-10     15187\n",
       "2       unreported      4125\n",
       "3           11-100       794\n",
       "4         Over 100        22"
      ]
     },
     "execution_count": 12,
     "metadata": {},
     "output_type": "execute_result"
    }
   ],
   "source": [
    "aws_df[\"Species Quantity\"] = aws_df[\"Species Quantity\"].replace('02-Oct','2-10')\n",
    "pd.DataFrame(aws_df[[\"Species Quantity\"]].value_counts(), columns = ['Quantity']).reset_index()"
   ]
  },
  {
   "cell_type": "markdown",
   "id": "30d2dfab-b16d-44ac-bfa0-bbf477d52447",
   "metadata": {},
   "source": [
    "# Q4"
   ]
  },
  {
   "cell_type": "code",
   "execution_count": 13,
   "id": "837a5076-6d62-46b3-9bbc-99b5a355a2fd",
   "metadata": {},
   "outputs": [
    {
     "data": {
      "text/plain": [
       "False    98403\n",
       "True     36605\n",
       "Name: Aircraft Type, dtype: int64"
      ]
     },
     "execution_count": 13,
     "metadata": {},
     "output_type": "execute_result"
    }
   ],
   "source": [
    "aws_df['Aircraft Type'].isna().value_counts()"
   ]
  },
  {
   "cell_type": "markdown",
   "id": "059984f9-a482-40e4-98b4-7e087a2533af",
   "metadata": {},
   "source": [
    "There are 36605 empty values in the column - 'Aircraft Type'"
   ]
  },
  {
   "cell_type": "markdown",
   "id": "2fabc36a-61e9-4433-97a2-17d968657d75",
   "metadata": {},
   "source": [
    "# Q5"
   ]
  },
  {
   "cell_type": "code",
   "execution_count": 14,
   "id": "703a8850-f817-432f-8aff-8370a34af910",
   "metadata": {},
   "outputs": [
    {
     "data": {
      "text/plain": [
       "(135008, 60)"
      ]
     },
     "execution_count": 14,
     "metadata": {},
     "output_type": "execute_result"
    }
   ],
   "source": [
    "aws_df.shape"
   ]
  },
  {
   "cell_type": "code",
   "execution_count": 15,
   "id": "4443c796-36b3-4df9-a427-732aa5515eee",
   "metadata": {},
   "outputs": [
    {
     "data": {
      "text/plain": [
       "(135008, 38)"
      ]
     },
     "execution_count": 15,
     "metadata": {},
     "output_type": "execute_result"
    }
   ],
   "source": [
    "aws_df.dropna(axis=1,thresh =len(aws_df)-30000).shape"
   ]
  },
  {
   "cell_type": "markdown",
   "id": "1d0ba03f-70b4-4461-98a2-56b1f7b1b338",
   "metadata": {},
   "source": [
    "The number of columns dropped from the table are 22."
   ]
  },
  {
   "cell_type": "markdown",
   "id": "8ed41b51-5184-40de-be2d-53ec85b46479",
   "metadata": {},
   "source": [
    "# Q6"
   ]
  },
  {
   "cell_type": "code",
   "execution_count": 16,
   "id": "a9536c36-1471-4cd8-8acc-7c3273ec68ca",
   "metadata": {},
   "outputs": [],
   "source": [
    "aws_df[['Height_new']] = aws_df[['Height']].fillna(aws_df[['Height']].median())"
   ]
  },
  {
   "cell_type": "code",
   "execution_count": 17,
   "id": "705a90f4-4a4b-4c59-babe-187197263d81",
   "metadata": {},
   "outputs": [
    {
     "data": {
      "text/html": [
       "<div>\n",
       "<style scoped>\n",
       "    .dataframe tbody tr th:only-of-type {\n",
       "        vertical-align: middle;\n",
       "    }\n",
       "\n",
       "    .dataframe tbody tr th {\n",
       "        vertical-align: top;\n",
       "    }\n",
       "\n",
       "    .dataframe thead th {\n",
       "        text-align: right;\n",
       "    }\n",
       "</style>\n",
       "<table border=\"1\" class=\"dataframe\">\n",
       "  <thead>\n",
       "    <tr style=\"text-align: right;\">\n",
       "      <th></th>\n",
       "      <th>Height</th>\n",
       "      <th>Height_new</th>\n",
       "    </tr>\n",
       "  </thead>\n",
       "  <tbody>\n",
       "    <tr>\n",
       "      <th>0</th>\n",
       "      <td>NaN</td>\n",
       "      <td>50.0</td>\n",
       "    </tr>\n",
       "    <tr>\n",
       "      <th>1</th>\n",
       "      <td>0.0</td>\n",
       "      <td>0.0</td>\n",
       "    </tr>\n",
       "    <tr>\n",
       "      <th>2</th>\n",
       "      <td>NaN</td>\n",
       "      <td>50.0</td>\n",
       "    </tr>\n",
       "    <tr>\n",
       "      <th>3</th>\n",
       "      <td>NaN</td>\n",
       "      <td>50.0</td>\n",
       "    </tr>\n",
       "    <tr>\n",
       "      <th>4</th>\n",
       "      <td>NaN</td>\n",
       "      <td>50.0</td>\n",
       "    </tr>\n",
       "    <tr>\n",
       "      <th>...</th>\n",
       "      <td>...</td>\n",
       "      <td>...</td>\n",
       "    </tr>\n",
       "    <tr>\n",
       "      <th>135003</th>\n",
       "      <td>NaN</td>\n",
       "      <td>50.0</td>\n",
       "    </tr>\n",
       "    <tr>\n",
       "      <th>135004</th>\n",
       "      <td>5000.0</td>\n",
       "      <td>5000.0</td>\n",
       "    </tr>\n",
       "    <tr>\n",
       "      <th>135005</th>\n",
       "      <td>3000.0</td>\n",
       "      <td>3000.0</td>\n",
       "    </tr>\n",
       "    <tr>\n",
       "      <th>135006</th>\n",
       "      <td>6000.0</td>\n",
       "      <td>6000.0</td>\n",
       "    </tr>\n",
       "    <tr>\n",
       "      <th>135007</th>\n",
       "      <td>NaN</td>\n",
       "      <td>50.0</td>\n",
       "    </tr>\n",
       "  </tbody>\n",
       "</table>\n",
       "<p>135008 rows × 2 columns</p>\n",
       "</div>"
      ],
      "text/plain": [
       "        Height  Height_new\n",
       "0          NaN        50.0\n",
       "1          0.0         0.0\n",
       "2          NaN        50.0\n",
       "3          NaN        50.0\n",
       "4          NaN        50.0\n",
       "...        ...         ...\n",
       "135003     NaN        50.0\n",
       "135004  5000.0      5000.0\n",
       "135005  3000.0      3000.0\n",
       "135006  6000.0      6000.0\n",
       "135007     NaN        50.0\n",
       "\n",
       "[135008 rows x 2 columns]"
      ]
     },
     "execution_count": 17,
     "metadata": {},
     "output_type": "execute_result"
    }
   ],
   "source": [
    "aws_df[['Height','Height_new']]"
   ]
  },
  {
   "cell_type": "markdown",
   "id": "f9785e06-f514-40ce-8b2f-3d1bd760b094",
   "metadata": {},
   "source": [
    "# Q7"
   ]
  },
  {
   "cell_type": "code",
   "execution_count": 18,
   "id": "7881beca-be4e-4298-a83d-45bbf33787bf",
   "metadata": {},
   "outputs": [
    {
     "data": {
      "text/html": [
       "<div>\n",
       "<style scoped>\n",
       "    .dataframe tbody tr th:only-of-type {\n",
       "        vertical-align: middle;\n",
       "    }\n",
       "\n",
       "    .dataframe tbody tr th {\n",
       "        vertical-align: top;\n",
       "    }\n",
       "\n",
       "    .dataframe thead th {\n",
       "        text-align: right;\n",
       "    }\n",
       "</style>\n",
       "<table border=\"1\" class=\"dataframe\">\n",
       "  <thead>\n",
       "    <tr style=\"text-align: right;\">\n",
       "      <th></th>\n",
       "      <th>Incident Year</th>\n",
       "      <th>1</th>\n",
       "      <th>11-100</th>\n",
       "      <th>2-10</th>\n",
       "      <th>Over 100</th>\n",
       "      <th>unreported</th>\n",
       "    </tr>\n",
       "  </thead>\n",
       "  <tbody>\n",
       "    <tr>\n",
       "      <th>0</th>\n",
       "      <td>2001</td>\n",
       "      <td>5257.0</td>\n",
       "      <td>51.0</td>\n",
       "      <td>835.0</td>\n",
       "      <td>3.0</td>\n",
       "      <td>70.0</td>\n",
       "    </tr>\n",
       "    <tr>\n",
       "      <th>1</th>\n",
       "      <td>2002</td>\n",
       "      <td>5652.0</td>\n",
       "      <td>51.0</td>\n",
       "      <td>905.0</td>\n",
       "      <td>2.0</td>\n",
       "      <td>49.0</td>\n",
       "    </tr>\n",
       "    <tr>\n",
       "      <th>2</th>\n",
       "      <td>2003</td>\n",
       "      <td>5448.0</td>\n",
       "      <td>53.0</td>\n",
       "      <td>896.0</td>\n",
       "      <td>3.0</td>\n",
       "      <td>85.0</td>\n",
       "    </tr>\n",
       "    <tr>\n",
       "      <th>3</th>\n",
       "      <td>2004</td>\n",
       "      <td>5636.0</td>\n",
       "      <td>52.0</td>\n",
       "      <td>858.0</td>\n",
       "      <td>NaN</td>\n",
       "      <td>576.0</td>\n",
       "    </tr>\n",
       "    <tr>\n",
       "      <th>4</th>\n",
       "      <td>2005</td>\n",
       "      <td>6298.0</td>\n",
       "      <td>60.0</td>\n",
       "      <td>861.0</td>\n",
       "      <td>1.0</td>\n",
       "      <td>371.0</td>\n",
       "    </tr>\n",
       "    <tr>\n",
       "      <th>5</th>\n",
       "      <td>2006</td>\n",
       "      <td>6270.0</td>\n",
       "      <td>68.0</td>\n",
       "      <td>889.0</td>\n",
       "      <td>2.0</td>\n",
       "      <td>521.0</td>\n",
       "    </tr>\n",
       "    <tr>\n",
       "      <th>6</th>\n",
       "      <td>2007</td>\n",
       "      <td>6684.0</td>\n",
       "      <td>45.0</td>\n",
       "      <td>1000.0</td>\n",
       "      <td>NaN</td>\n",
       "      <td>264.0</td>\n",
       "    </tr>\n",
       "    <tr>\n",
       "      <th>7</th>\n",
       "      <td>2008</td>\n",
       "      <td>6653.0</td>\n",
       "      <td>51.0</td>\n",
       "      <td>910.0</td>\n",
       "      <td>2.0</td>\n",
       "      <td>377.0</td>\n",
       "    </tr>\n",
       "    <tr>\n",
       "      <th>8</th>\n",
       "      <td>2009</td>\n",
       "      <td>8297.0</td>\n",
       "      <td>49.0</td>\n",
       "      <td>1144.0</td>\n",
       "      <td>NaN</td>\n",
       "      <td>358.0</td>\n",
       "    </tr>\n",
       "    <tr>\n",
       "      <th>9</th>\n",
       "      <td>2010</td>\n",
       "      <td>8644.0</td>\n",
       "      <td>49.0</td>\n",
       "      <td>1198.0</td>\n",
       "      <td>1.0</td>\n",
       "      <td>42.0</td>\n",
       "    </tr>\n",
       "    <tr>\n",
       "      <th>10</th>\n",
       "      <td>2011</td>\n",
       "      <td>8865.0</td>\n",
       "      <td>61.0</td>\n",
       "      <td>1171.0</td>\n",
       "      <td>1.0</td>\n",
       "      <td>265.0</td>\n",
       "    </tr>\n",
       "    <tr>\n",
       "      <th>11</th>\n",
       "      <td>2012</td>\n",
       "      <td>9721.0</td>\n",
       "      <td>51.0</td>\n",
       "      <td>1115.0</td>\n",
       "      <td>2.0</td>\n",
       "      <td>375.0</td>\n",
       "    </tr>\n",
       "    <tr>\n",
       "      <th>12</th>\n",
       "      <td>2013</td>\n",
       "      <td>10166.0</td>\n",
       "      <td>49.0</td>\n",
       "      <td>1162.0</td>\n",
       "      <td>2.0</td>\n",
       "      <td>287.0</td>\n",
       "    </tr>\n",
       "    <tr>\n",
       "      <th>13</th>\n",
       "      <td>2014</td>\n",
       "      <td>12216.0</td>\n",
       "      <td>60.0</td>\n",
       "      <td>1378.0</td>\n",
       "      <td>1.0</td>\n",
       "      <td>321.0</td>\n",
       "    </tr>\n",
       "    <tr>\n",
       "      <th>14</th>\n",
       "      <td>2015</td>\n",
       "      <td>9073.0</td>\n",
       "      <td>44.0</td>\n",
       "      <td>865.0</td>\n",
       "      <td>2.0</td>\n",
       "      <td>164.0</td>\n",
       "    </tr>\n",
       "  </tbody>\n",
       "</table>\n",
       "</div>"
      ],
      "text/plain": [
       "    Incident Year        1  11-100    2-10  Over 100  unreported\n",
       "0            2001   5257.0    51.0   835.0       3.0        70.0\n",
       "1            2002   5652.0    51.0   905.0       2.0        49.0\n",
       "2            2003   5448.0    53.0   896.0       3.0        85.0\n",
       "3            2004   5636.0    52.0   858.0       NaN       576.0\n",
       "4            2005   6298.0    60.0   861.0       1.0       371.0\n",
       "5            2006   6270.0    68.0   889.0       2.0       521.0\n",
       "6            2007   6684.0    45.0  1000.0       NaN       264.0\n",
       "7            2008   6653.0    51.0   910.0       2.0       377.0\n",
       "8            2009   8297.0    49.0  1144.0       NaN       358.0\n",
       "9            2010   8644.0    49.0  1198.0       1.0        42.0\n",
       "10           2011   8865.0    61.0  1171.0       1.0       265.0\n",
       "11           2012   9721.0    51.0  1115.0       2.0       375.0\n",
       "12           2013  10166.0    49.0  1162.0       2.0       287.0\n",
       "13           2014  12216.0    60.0  1378.0       1.0       321.0\n",
       "14           2015   9073.0    44.0   865.0       2.0       164.0"
      ]
     },
     "execution_count": 18,
     "metadata": {},
     "output_type": "execute_result"
    }
   ],
   "source": [
    "aws_YearSpecies = aws_df.groupby(['Incident Year'])[['Species Quantity']].value_counts().unstack()\n",
    "aws_YearSpecies = aws_YearSpecies.reset_index()\n",
    "aws_YearSpecies = aws_YearSpecies.rename_axis(None, axis=1)\n",
    "aws_YearSpecies"
   ]
  },
  {
   "cell_type": "markdown",
   "id": "bafd8d88-813a-4d9b-bde2-9bca097baf4d",
   "metadata": {},
   "source": [
    "# Q8"
   ]
  },
  {
   "cell_type": "markdown",
   "id": "5c761c46-c249-4501-9c54-6f5618d3098b",
   "metadata": {},
   "source": [
    "The meaning of the \"NaN\" is that in the years - 2004, 2007 and 2009 the Species Quantity was no over 100 in any incident."
   ]
  },
  {
   "cell_type": "code",
   "execution_count": null,
   "id": "76148720-b372-450f-bec0-b2dce7544078",
   "metadata": {},
   "outputs": [],
   "source": []
  },
  {
   "cell_type": "markdown",
   "id": "2926df4a-6415-4051-9bad-170504b8128d",
   "metadata": {},
   "source": [
    "# Q9"
   ]
  },
  {
   "cell_type": "code",
   "execution_count": 19,
   "id": "3ac4876c-0c6c-4d0e-96ec-9fdb64f93f4a",
   "metadata": {},
   "outputs": [
    {
     "data": {
      "text/html": [
       "<div>\n",
       "<style scoped>\n",
       "    .dataframe tbody tr th:only-of-type {\n",
       "        vertical-align: middle;\n",
       "    }\n",
       "\n",
       "    .dataframe tbody tr th {\n",
       "        vertical-align: top;\n",
       "    }\n",
       "\n",
       "    .dataframe thead th {\n",
       "        text-align: right;\n",
       "    }\n",
       "</style>\n",
       "<table border=\"1\" class=\"dataframe\">\n",
       "  <thead>\n",
       "    <tr style=\"text-align: right;\">\n",
       "      <th></th>\n",
       "      <th>Incident Year</th>\n",
       "      <th>Incident Month</th>\n",
       "      <th>Height</th>\n",
       "      <th>Speed</th>\n",
       "    </tr>\n",
       "  </thead>\n",
       "  <tbody>\n",
       "    <tr>\n",
       "      <th>0</th>\n",
       "      <td>2001</td>\n",
       "      <td>1</td>\n",
       "      <td>562.480769</td>\n",
       "      <td>130.0</td>\n",
       "    </tr>\n",
       "    <tr>\n",
       "      <th>1</th>\n",
       "      <td>2001</td>\n",
       "      <td>2</td>\n",
       "      <td>647.482993</td>\n",
       "      <td>135.0</td>\n",
       "    </tr>\n",
       "    <tr>\n",
       "      <th>2</th>\n",
       "      <td>2001</td>\n",
       "      <td>3</td>\n",
       "      <td>1152.746479</td>\n",
       "      <td>140.0</td>\n",
       "    </tr>\n",
       "    <tr>\n",
       "      <th>3</th>\n",
       "      <td>2001</td>\n",
       "      <td>4</td>\n",
       "      <td>1401.976271</td>\n",
       "      <td>140.0</td>\n",
       "    </tr>\n",
       "    <tr>\n",
       "      <th>4</th>\n",
       "      <td>2001</td>\n",
       "      <td>5</td>\n",
       "      <td>1106.207386</td>\n",
       "      <td>137.0</td>\n",
       "    </tr>\n",
       "    <tr>\n",
       "      <th>...</th>\n",
       "      <td>...</td>\n",
       "      <td>...</td>\n",
       "      <td>...</td>\n",
       "      <td>...</td>\n",
       "    </tr>\n",
       "    <tr>\n",
       "      <th>172</th>\n",
       "      <td>2015</td>\n",
       "      <td>5</td>\n",
       "      <td>1210.496350</td>\n",
       "      <td>150.0</td>\n",
       "    </tr>\n",
       "    <tr>\n",
       "      <th>173</th>\n",
       "      <td>2015</td>\n",
       "      <td>6</td>\n",
       "      <td>318.896484</td>\n",
       "      <td>130.0</td>\n",
       "    </tr>\n",
       "    <tr>\n",
       "      <th>174</th>\n",
       "      <td>2015</td>\n",
       "      <td>7</td>\n",
       "      <td>355.818999</td>\n",
       "      <td>130.0</td>\n",
       "    </tr>\n",
       "    <tr>\n",
       "      <th>175</th>\n",
       "      <td>2015</td>\n",
       "      <td>8</td>\n",
       "      <td>683.487691</td>\n",
       "      <td>140.0</td>\n",
       "    </tr>\n",
       "    <tr>\n",
       "      <th>176</th>\n",
       "      <td>2015</td>\n",
       "      <td>9</td>\n",
       "      <td>1406.957908</td>\n",
       "      <td>143.0</td>\n",
       "    </tr>\n",
       "  </tbody>\n",
       "</table>\n",
       "<p>177 rows × 4 columns</p>\n",
       "</div>"
      ],
      "text/plain": [
       "     Incident Year  Incident Month       Height  Speed\n",
       "0             2001               1   562.480769  130.0\n",
       "1             2001               2   647.482993  135.0\n",
       "2             2001               3  1152.746479  140.0\n",
       "3             2001               4  1401.976271  140.0\n",
       "4             2001               5  1106.207386  137.0\n",
       "..             ...             ...          ...    ...\n",
       "172           2015               5  1210.496350  150.0\n",
       "173           2015               6   318.896484  130.0\n",
       "174           2015               7   355.818999  130.0\n",
       "175           2015               8   683.487691  140.0\n",
       "176           2015               9  1406.957908  143.0\n",
       "\n",
       "[177 rows x 4 columns]"
      ]
     },
     "execution_count": 19,
     "metadata": {},
     "output_type": "execute_result"
    }
   ],
   "source": [
    "aws_HeightSpeed = aws_df.groupby(['Incident Year','Incident Month']).agg({'Height':'mean','Speed':'median'})\n",
    "aws_HeightSpeed = aws_HeightSpeed.reset_index()\n",
    "aws_HeightSpeed"
   ]
  },
  {
   "cell_type": "code",
   "execution_count": null,
   "id": "8bebfb33-32ae-4819-a672-dfac51564db3",
   "metadata": {},
   "outputs": [],
   "source": []
  }
 ],
 "metadata": {
  "kernelspec": {
   "display_name": "Python 3 (ipykernel)",
   "language": "python",
   "name": "python3"
  },
  "language_info": {
   "codemirror_mode": {
    "name": "ipython",
    "version": 3
   },
   "file_extension": ".py",
   "mimetype": "text/x-python",
   "name": "python",
   "nbconvert_exporter": "python",
   "pygments_lexer": "ipython3",
   "version": "3.9.13"
  }
 },
 "nbformat": 4,
 "nbformat_minor": 5
}
