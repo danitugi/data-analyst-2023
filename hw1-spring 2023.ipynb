{
 "cells": [
  {
   "cell_type": "code",
   "execution_count": 1,
   "id": "2f081b79-7480-4760-a4df-c7d8525604a7",
   "metadata": {},
   "outputs": [],
   "source": [
    "import numpy as np\n",
    "import pandas as pd"
   ]
  },
  {
   "cell_type": "markdown",
   "id": "79d598a3-a908-45ae-bcc8-ce8fb7eb0ade",
   "metadata": {
    "tags": []
   },
   "source": [
    "# Identify:\n",
    "\n",
    "Please fill-in your ID in the following cell, **only id numbers, no names!**\n"
   ]
  },
  {
   "cell_type": "code",
   "execution_count": 2,
   "id": "3fe7d342-1f0e-418c-9d89-864073886603",
   "metadata": {},
   "outputs": [],
   "source": [
    "id1 = \"318465291\"\n"
   ]
  },
  {
   "cell_type": "code",
   "execution_count": 3,
   "id": "b360d199-879b-4bae-bbdc-c3a14f85d392",
   "metadata": {},
   "outputs": [],
   "source": [
    "df = pd.DataFrame([id1])"
   ]
  },
  {
   "cell_type": "markdown",
   "id": "633e3244-493a-4613-babf-5dfb786f0706",
   "metadata": {},
   "source": [
    "Uncomment in case two students are doing the assignment together:"
   ]
  },
  {
   "cell_type": "code",
   "execution_count": 4,
   "id": "3e3090cd-b9b3-4435-afc5-721c5587f8ef",
   "metadata": {},
   "outputs": [],
   "source": [
    "#df = pd.DataFrame([id1,id2])"
   ]
  },
  {
   "cell_type": "code",
   "execution_count": 5,
   "id": "c2374c78-64c3-4d7c-9e78-7ab0c9003b45",
   "metadata": {},
   "outputs": [],
   "source": [
    "df.to_clipboard(index=False,header=False)"
   ]
  },
  {
   "cell_type": "markdown",
   "id": "069d6ea5-8ac2-4cbb-813d-fd3bde53e352",
   "metadata": {},
   "source": [
    "Please fill your names here:"
   ]
  },
  {
   "cell_type": "markdown",
   "id": "203de7d5-e750-4b9a-a80f-cf3d202238e3",
   "metadata": {},
   "source": [
    "Daniel tugendhaft"
   ]
  },
  {
   "cell_type": "markdown",
   "id": "d2b60456-295d-4052-8fca-a7804cdc4b36",
   "metadata": {
    "tags": []
   },
   "source": [
    "# Q1"
   ]
  },
  {
   "cell_type": "code",
   "execution_count": 6,
   "id": "8c726250-0e3c-4212-ace0-c729b42e78be",
   "metadata": {},
   "outputs": [],
   "source": [
    "bs_file = 'bird strikes.csv'"
   ]
  },
  {
   "cell_type": "code",
   "execution_count": 7,
   "id": "f9976289-93d4-47fe-9622-d278d9325211",
   "metadata": {},
   "outputs": [],
   "source": [
    "bs_df = pd.read_csv(bs_file)"
   ]
  },
  {
   "cell_type": "code",
   "execution_count": 8,
   "id": "fb422414-662a-4e4a-b56b-30e2eb9f548b",
   "metadata": {},
   "outputs": [
    {
     "data": {
      "text/plain": [
       "Index(['year', 'month', 'warning', 'visibility', 'height', 'speed',\n",
       "       'species name', 'injuries', 'aircraft damage'],\n",
       "      dtype='object')"
      ]
     },
     "execution_count": 8,
     "metadata": {},
     "output_type": "execute_result"
    }
   ],
   "source": [
    "bs_df.columns"
   ]
  },
  {
   "cell_type": "code",
   "execution_count": 9,
   "id": "f13a5e05-928f-4db2-af0b-4ce781ef0ffe",
   "metadata": {},
   "outputs": [
    {
     "data": {
      "text/html": [
       "<div>\n",
       "<style scoped>\n",
       "    .dataframe tbody tr th:only-of-type {\n",
       "        vertical-align: middle;\n",
       "    }\n",
       "\n",
       "    .dataframe tbody tr th {\n",
       "        vertical-align: top;\n",
       "    }\n",
       "\n",
       "    .dataframe thead th {\n",
       "        text-align: right;\n",
       "    }\n",
       "</style>\n",
       "<table border=\"1\" class=\"dataframe\">\n",
       "  <thead>\n",
       "    <tr style=\"text-align: right;\">\n",
       "      <th></th>\n",
       "      <th>year</th>\n",
       "      <th>warning</th>\n",
       "    </tr>\n",
       "  </thead>\n",
       "  <tbody>\n",
       "    <tr>\n",
       "      <th>10</th>\n",
       "      <td>1990</td>\n",
       "      <td>NaN</td>\n",
       "    </tr>\n",
       "    <tr>\n",
       "      <th>11</th>\n",
       "      <td>1990</td>\n",
       "      <td>No</td>\n",
       "    </tr>\n",
       "    <tr>\n",
       "      <th>12</th>\n",
       "      <td>1990</td>\n",
       "      <td>No</td>\n",
       "    </tr>\n",
       "    <tr>\n",
       "      <th>13</th>\n",
       "      <td>1990</td>\n",
       "      <td>NaN</td>\n",
       "    </tr>\n",
       "    <tr>\n",
       "      <th>14</th>\n",
       "      <td>1990</td>\n",
       "      <td>NaN</td>\n",
       "    </tr>\n",
       "  </tbody>\n",
       "</table>\n",
       "</div>"
      ],
      "text/plain": [
       "    year warning\n",
       "10  1990     NaN\n",
       "11  1990      No\n",
       "12  1990      No\n",
       "13  1990     NaN\n",
       "14  1990     NaN"
      ]
     },
     "execution_count": 9,
     "metadata": {},
     "output_type": "execute_result"
    }
   ],
   "source": [
    "bs_df.iloc[10:15,[0,2]]"
   ]
  },
  {
   "cell_type": "markdown",
   "id": "5e36f3c1-1e1c-43bc-ae6e-39a4741c34a8",
   "metadata": {},
   "source": [
    "# Q2"
   ]
  },
  {
   "cell_type": "code",
   "execution_count": 10,
   "id": "627bc7d7-4767-4dbb-a928-78808f43499f",
   "metadata": {},
   "outputs": [],
   "source": [
    "url = 'https://raw.githubusercontent.com/nlihin/data-analytics/main/datasets/aircraft%20wildlife%20strikes.csv'"
   ]
  },
  {
   "cell_type": "code",
   "execution_count": 11,
   "id": "4a840295-39d1-4e20-9236-14c84f3163c9",
   "metadata": {},
   "outputs": [
    {
     "name": "stderr",
     "output_type": "stream",
     "text": [
      "/var/folders/1n/l8xnr__x38x4jqs4jb3_b1_w0000gp/T/ipykernel_7488/685132185.py:1: DtypeWarning: Columns (6,12,14) have mixed types. Specify dtype option on import or set low_memory=False.\n",
      "  aws_df = pd.read_csv(url)\n"
     ]
    }
   ],
   "source": [
    "aws_df = pd.read_csv(url)"
   ]
  },
  {
   "cell_type": "code",
   "execution_count": 12,
   "id": "187fe4ec-25ba-4b10-b3af-e483213c38b1",
   "metadata": {},
   "outputs": [
    {
     "data": {
      "text/plain": [
       "Index(['Incident Year', 'Incident Month', 'Operator', 'Aircraft',\n",
       "       'Aircraft Type', 'Aircraft Make', 'Aircraft Model', 'Aircraft Mass',\n",
       "       'Engine Make', 'Engine Model', 'Engines', 'Engine Type',\n",
       "       'Engine1 Position', 'Engine2 Position', 'Engine3 Position',\n",
       "       'Engine4 Position', 'Airport', 'State', 'Warning Issued',\n",
       "       'Flight Phase', 'Visibility', 'Precipitation', 'Height', 'Speed',\n",
       "       'Distance', 'Species Name', 'Species Quantity', 'Flight Impact',\n",
       "       'Fatalities', 'Injuries', 'Aircraft Damage', 'Radome Strike',\n",
       "       'Radome Damage', 'Windshield Strike', 'Windshield Damage',\n",
       "       'Nose Strike', 'Nose Damage', 'Engine1 Strike', 'Engine1 Damage',\n",
       "       'Engine2 Strike', 'Engine2 Damage', 'Engine3 Strike', 'Engine3 Damage',\n",
       "       'Engine4 Strike', 'Engine4 Damage', 'Engine Ingested',\n",
       "       'Propeller Strike', 'Propeller Damage', 'Wing or Rotor Strike',\n",
       "       'Wing or Rotor Damage', 'Fuselage Strike', 'Fuselage Damage',\n",
       "       'Landing Gear Strike', 'Landing Gear Damage', 'Tail Strike',\n",
       "       'Tail Damage', 'Lights Strike', 'Lights Damage', 'Other Strike',\n",
       "       'Other Damage'],\n",
       "      dtype='object')"
      ]
     },
     "execution_count": 12,
     "metadata": {},
     "output_type": "execute_result"
    }
   ],
   "source": [
    "aws_df.columns"
   ]
  },
  {
   "cell_type": "code",
   "execution_count": 13,
   "id": "d7ee6576-b649-436e-a84c-e06de191678e",
   "metadata": {},
   "outputs": [
    {
     "data": {
      "text/html": [
       "<div>\n",
       "<style scoped>\n",
       "    .dataframe tbody tr th:only-of-type {\n",
       "        vertical-align: middle;\n",
       "    }\n",
       "\n",
       "    .dataframe tbody tr th {\n",
       "        vertical-align: top;\n",
       "    }\n",
       "\n",
       "    .dataframe thead th {\n",
       "        text-align: right;\n",
       "    }\n",
       "</style>\n",
       "<table border=\"1\" class=\"dataframe\">\n",
       "  <thead>\n",
       "    <tr style=\"text-align: right;\">\n",
       "      <th></th>\n",
       "      <th>Species Name</th>\n",
       "      <th>Flight Phase</th>\n",
       "      <th>Aircraft</th>\n",
       "    </tr>\n",
       "  </thead>\n",
       "  <tbody>\n",
       "    <tr>\n",
       "      <th>10</th>\n",
       "      <td>UNKNOWN SMALL BIRD</td>\n",
       "      <td>CLIMB</td>\n",
       "      <td>MD-88</td>\n",
       "    </tr>\n",
       "    <tr>\n",
       "      <th>11</th>\n",
       "      <td>UNKNOWN MEDIUM BIRD</td>\n",
       "      <td>TAKEOFF RUN</td>\n",
       "      <td>MD-80</td>\n",
       "    </tr>\n",
       "    <tr>\n",
       "      <th>25</th>\n",
       "      <td>HOUSE SPARROW</td>\n",
       "      <td>TAKEOFF RUN</td>\n",
       "      <td>C-21A</td>\n",
       "    </tr>\n",
       "  </tbody>\n",
       "</table>\n",
       "</div>"
      ],
      "text/plain": [
       "           Species Name Flight Phase Aircraft\n",
       "10   UNKNOWN SMALL BIRD        CLIMB    MD-88\n",
       "11  UNKNOWN MEDIUM BIRD  TAKEOFF RUN    MD-80\n",
       "25        HOUSE SPARROW  TAKEOFF RUN    C-21A"
      ]
     },
     "execution_count": 13,
     "metadata": {},
     "output_type": "execute_result"
    }
   ],
   "source": [
    "aws_df.loc[[10,11,25],['Species Name', 'Flight Phase', 'Aircraft']]"
   ]
  },
  {
   "cell_type": "markdown",
   "id": "57fc7401-53b7-4622-a02b-105fef7ee10f",
   "metadata": {},
   "source": [
    "# Q3"
   ]
  },
  {
   "cell_type": "code",
   "execution_count": 14,
   "id": "b96455b1-937b-4008-be3e-9cfeb1c55d39",
   "metadata": {},
   "outputs": [
    {
     "data": {
      "text/plain": [
       "559"
      ]
     },
     "execution_count": 14,
     "metadata": {},
     "output_type": "execute_result"
    }
   ],
   "source": [
    "len(aws_df['Aircraft'].unique())"
   ]
  },
  {
   "cell_type": "code",
   "execution_count": 15,
   "id": "d1449e31-8207-4bb4-b945-2d25249e0ca2",
   "metadata": {},
   "outputs": [
    {
     "data": {
      "text/plain": [
       "'UNKNOWN'"
      ]
     },
     "execution_count": 15,
     "metadata": {},
     "output_type": "execute_result"
    }
   ],
   "source": [
    "aws_df['Aircraft'].unique()[0]"
   ]
  },
  {
   "cell_type": "markdown",
   "id": "2bcb976d-4596-4dbe-a0a8-b6f07ca63b4d",
   "metadata": {},
   "source": [
    "#without 'UNKNOWN'"
   ]
  },
  {
   "cell_type": "code",
   "execution_count": 16,
   "id": "c88ca89d-4d42-4913-9beb-1ef5b8d10b86",
   "metadata": {},
   "outputs": [
    {
     "data": {
      "text/plain": [
       "558"
      ]
     },
     "execution_count": 16,
     "metadata": {},
     "output_type": "execute_result"
    }
   ],
   "source": [
    "len(aws_df['Aircraft'].unique())-1"
   ]
  },
  {
   "cell_type": "markdown",
   "id": "d2acfd67-f857-4244-870a-ac8ee84ba36e",
   "metadata": {},
   "source": [
    "The answer is 558 types."
   ]
  },
  {
   "cell_type": "markdown",
   "id": "30d2dfab-b16d-44ac-bfa0-bbf477d52447",
   "metadata": {},
   "source": [
    "# Q4"
   ]
  },
  {
   "cell_type": "code",
   "execution_count": 17,
   "id": "a8205da3-8003-46b4-94ed-021f9493c640",
   "metadata": {},
   "outputs": [
    {
     "data": {
      "text/html": [
       "<div>\n",
       "<style scoped>\n",
       "    .dataframe tbody tr th:only-of-type {\n",
       "        vertical-align: middle;\n",
       "    }\n",
       "\n",
       "    .dataframe tbody tr th {\n",
       "        vertical-align: top;\n",
       "    }\n",
       "\n",
       "    .dataframe thead th {\n",
       "        text-align: right;\n",
       "    }\n",
       "</style>\n",
       "<table border=\"1\" class=\"dataframe\">\n",
       "  <thead>\n",
       "    <tr style=\"text-align: right;\">\n",
       "      <th></th>\n",
       "      <th>Height</th>\n",
       "    </tr>\n",
       "  </thead>\n",
       "  <tbody>\n",
       "    <tr>\n",
       "      <th>count</th>\n",
       "      <td>4099.000000</td>\n",
       "    </tr>\n",
       "    <tr>\n",
       "      <th>mean</th>\n",
       "      <td>874.820200</td>\n",
       "    </tr>\n",
       "    <tr>\n",
       "      <th>std</th>\n",
       "      <td>1891.850931</td>\n",
       "    </tr>\n",
       "    <tr>\n",
       "      <th>min</th>\n",
       "      <td>0.000000</td>\n",
       "    </tr>\n",
       "    <tr>\n",
       "      <th>25%</th>\n",
       "      <td>0.000000</td>\n",
       "    </tr>\n",
       "    <tr>\n",
       "      <th>50%</th>\n",
       "      <td>50.000000</td>\n",
       "    </tr>\n",
       "    <tr>\n",
       "      <th>75%</th>\n",
       "      <td>800.000000</td>\n",
       "    </tr>\n",
       "    <tr>\n",
       "      <th>max</th>\n",
       "      <td>15000.000000</td>\n",
       "    </tr>\n",
       "  </tbody>\n",
       "</table>\n",
       "</div>"
      ],
      "text/plain": [
       "             Height\n",
       "count   4099.000000\n",
       "mean     874.820200\n",
       "std     1891.850931\n",
       "min        0.000000\n",
       "25%        0.000000\n",
       "50%       50.000000\n",
       "75%      800.000000\n",
       "max    15000.000000"
      ]
     },
     "execution_count": 17,
     "metadata": {},
     "output_type": "execute_result"
    }
   ],
   "source": [
    "pd.DataFrame(aws_df[aws_df.loc[:,'Aircraft']=='A-320'].Height.describe())"
   ]
  },
  {
   "cell_type": "markdown",
   "id": "7091a377-81c4-4b02-96af-8040e2cb63ee",
   "metadata": {},
   "source": [
    "The average height is: 874.820200\n",
    "The median height is: 50.000000"
   ]
  },
  {
   "cell_type": "markdown",
   "id": "d8c24aad-c738-401d-bc65-0dfe10b48dca",
   "metadata": {},
   "source": [
    "*The difference indicates many injuries at high altitude, which creates a gap between the average and the median.*"
   ]
  },
  {
   "cell_type": "markdown",
   "id": "2fabc36a-61e9-4433-97a2-17d968657d75",
   "metadata": {},
   "source": [
    "# Q5"
   ]
  },
  {
   "cell_type": "code",
   "execution_count": 18,
   "id": "cd7c9556-fa5f-42fa-a378-14dc358ff335",
   "metadata": {},
   "outputs": [
    {
     "data": {
      "text/html": [
       "<div>\n",
       "<style scoped>\n",
       "    .dataframe tbody tr th:only-of-type {\n",
       "        vertical-align: middle;\n",
       "    }\n",
       "\n",
       "    .dataframe tbody tr th {\n",
       "        vertical-align: top;\n",
       "    }\n",
       "\n",
       "    .dataframe thead th {\n",
       "        text-align: right;\n",
       "    }\n",
       "</style>\n",
       "<table border=\"1\" class=\"dataframe\">\n",
       "  <thead>\n",
       "    <tr style=\"text-align: right;\">\n",
       "      <th></th>\n",
       "      <th>Incident Year</th>\n",
       "      <th>Incident Month</th>\n",
       "      <th>Operator</th>\n",
       "      <th>Aircraft</th>\n",
       "      <th>Aircraft Type</th>\n",
       "      <th>Aircraft Make</th>\n",
       "      <th>Aircraft Model</th>\n",
       "      <th>Aircraft Mass</th>\n",
       "      <th>Engine Make</th>\n",
       "      <th>Engine Model</th>\n",
       "      <th>...</th>\n",
       "      <th>Fuselage Strike</th>\n",
       "      <th>Fuselage Damage</th>\n",
       "      <th>Landing Gear Strike</th>\n",
       "      <th>Landing Gear Damage</th>\n",
       "      <th>Tail Strike</th>\n",
       "      <th>Tail Damage</th>\n",
       "      <th>Lights Strike</th>\n",
       "      <th>Lights Damage</th>\n",
       "      <th>Other Strike</th>\n",
       "      <th>Other Damage</th>\n",
       "    </tr>\n",
       "  </thead>\n",
       "  <tbody>\n",
       "    <tr>\n",
       "      <th>77591</th>\n",
       "      <td>2011</td>\n",
       "      <td>1</td>\n",
       "      <td>HORIZON AIR</td>\n",
       "      <td>DHC8 DASH 8</td>\n",
       "      <td>A</td>\n",
       "      <td>303</td>\n",
       "      <td>10.0</td>\n",
       "      <td>3.0</td>\n",
       "      <td>31.0</td>\n",
       "      <td>10</td>\n",
       "      <td>...</td>\n",
       "      <td>0</td>\n",
       "      <td>0</td>\n",
       "      <td>0</td>\n",
       "      <td>0</td>\n",
       "      <td>0</td>\n",
       "      <td>0</td>\n",
       "      <td>0</td>\n",
       "      <td>0</td>\n",
       "      <td>0</td>\n",
       "      <td>0</td>\n",
       "    </tr>\n",
       "    <tr>\n",
       "      <th>77592</th>\n",
       "      <td>2011</td>\n",
       "      <td>1</td>\n",
       "      <td>GREAT LAKES AIRLINES</td>\n",
       "      <td>BE-19</td>\n",
       "      <td>A</td>\n",
       "      <td>123</td>\n",
       "      <td>3.0</td>\n",
       "      <td>1.0</td>\n",
       "      <td>7.0</td>\n",
       "      <td>10</td>\n",
       "      <td>...</td>\n",
       "      <td>0</td>\n",
       "      <td>0</td>\n",
       "      <td>0</td>\n",
       "      <td>0</td>\n",
       "      <td>0</td>\n",
       "      <td>0</td>\n",
       "      <td>0</td>\n",
       "      <td>0</td>\n",
       "      <td>0</td>\n",
       "      <td>0</td>\n",
       "    </tr>\n",
       "    <tr>\n",
       "      <th>77593</th>\n",
       "      <td>2011</td>\n",
       "      <td>1</td>\n",
       "      <td>GREAT LAKES AIRLINES</td>\n",
       "      <td>BE-1900</td>\n",
       "      <td>A</td>\n",
       "      <td>123</td>\n",
       "      <td>27.0</td>\n",
       "      <td>3.0</td>\n",
       "      <td>31.0</td>\n",
       "      <td>4</td>\n",
       "      <td>...</td>\n",
       "      <td>1</td>\n",
       "      <td>0</td>\n",
       "      <td>0</td>\n",
       "      <td>0</td>\n",
       "      <td>0</td>\n",
       "      <td>0</td>\n",
       "      <td>0</td>\n",
       "      <td>0</td>\n",
       "      <td>0</td>\n",
       "      <td>0</td>\n",
       "    </tr>\n",
       "    <tr>\n",
       "      <th>77594</th>\n",
       "      <td>2011</td>\n",
       "      <td>1</td>\n",
       "      <td>GREAT LAKES AIRLINES</td>\n",
       "      <td>BE-1900</td>\n",
       "      <td>A</td>\n",
       "      <td>123</td>\n",
       "      <td>27.0</td>\n",
       "      <td>3.0</td>\n",
       "      <td>31.0</td>\n",
       "      <td>4</td>\n",
       "      <td>...</td>\n",
       "      <td>0</td>\n",
       "      <td>0</td>\n",
       "      <td>0</td>\n",
       "      <td>0</td>\n",
       "      <td>0</td>\n",
       "      <td>0</td>\n",
       "      <td>0</td>\n",
       "      <td>0</td>\n",
       "      <td>0</td>\n",
       "      <td>0</td>\n",
       "    </tr>\n",
       "    <tr>\n",
       "      <th>77595</th>\n",
       "      <td>2011</td>\n",
       "      <td>1</td>\n",
       "      <td>BUSINESS</td>\n",
       "      <td>GULFSTREAM 200</td>\n",
       "      <td>A</td>\n",
       "      <td>417</td>\n",
       "      <td>NaN</td>\n",
       "      <td>3.0</td>\n",
       "      <td>31.0</td>\n",
       "      <td>14</td>\n",
       "      <td>...</td>\n",
       "      <td>0</td>\n",
       "      <td>0</td>\n",
       "      <td>0</td>\n",
       "      <td>0</td>\n",
       "      <td>0</td>\n",
       "      <td>0</td>\n",
       "      <td>0</td>\n",
       "      <td>0</td>\n",
       "      <td>0</td>\n",
       "      <td>0</td>\n",
       "    </tr>\n",
       "    <tr>\n",
       "      <th>...</th>\n",
       "      <td>...</td>\n",
       "      <td>...</td>\n",
       "      <td>...</td>\n",
       "      <td>...</td>\n",
       "      <td>...</td>\n",
       "      <td>...</td>\n",
       "      <td>...</td>\n",
       "      <td>...</td>\n",
       "      <td>...</td>\n",
       "      <td>...</td>\n",
       "      <td>...</td>\n",
       "      <td>...</td>\n",
       "      <td>...</td>\n",
       "      <td>...</td>\n",
       "      <td>...</td>\n",
       "      <td>...</td>\n",
       "      <td>...</td>\n",
       "      <td>...</td>\n",
       "      <td>...</td>\n",
       "      <td>...</td>\n",
       "      <td>...</td>\n",
       "    </tr>\n",
       "    <tr>\n",
       "      <th>135003</th>\n",
       "      <td>2015</td>\n",
       "      <td>9</td>\n",
       "      <td>SOUTHWEST AIRLINES</td>\n",
       "      <td>B-737-700</td>\n",
       "      <td>A</td>\n",
       "      <td>148</td>\n",
       "      <td>42</td>\n",
       "      <td>4.0</td>\n",
       "      <td>10.0</td>\n",
       "      <td>1</td>\n",
       "      <td>...</td>\n",
       "      <td>0</td>\n",
       "      <td>0</td>\n",
       "      <td>0</td>\n",
       "      <td>0</td>\n",
       "      <td>0</td>\n",
       "      <td>0</td>\n",
       "      <td>0</td>\n",
       "      <td>0</td>\n",
       "      <td>0</td>\n",
       "      <td>0</td>\n",
       "    </tr>\n",
       "    <tr>\n",
       "      <th>135004</th>\n",
       "      <td>2015</td>\n",
       "      <td>9</td>\n",
       "      <td>SOUTHWEST AIRLINES</td>\n",
       "      <td>B-737-700</td>\n",
       "      <td>A</td>\n",
       "      <td>148</td>\n",
       "      <td>42</td>\n",
       "      <td>4.0</td>\n",
       "      <td>10.0</td>\n",
       "      <td>1</td>\n",
       "      <td>...</td>\n",
       "      <td>0</td>\n",
       "      <td>0</td>\n",
       "      <td>0</td>\n",
       "      <td>0</td>\n",
       "      <td>0</td>\n",
       "      <td>0</td>\n",
       "      <td>0</td>\n",
       "      <td>0</td>\n",
       "      <td>0</td>\n",
       "      <td>0</td>\n",
       "    </tr>\n",
       "    <tr>\n",
       "      <th>135005</th>\n",
       "      <td>2015</td>\n",
       "      <td>9</td>\n",
       "      <td>BUSINESS</td>\n",
       "      <td>CITATIONJET</td>\n",
       "      <td>A</td>\n",
       "      <td>226</td>\n",
       "      <td>49</td>\n",
       "      <td>2.0</td>\n",
       "      <td>46.0</td>\n",
       "      <td>1</td>\n",
       "      <td>...</td>\n",
       "      <td>1</td>\n",
       "      <td>1</td>\n",
       "      <td>0</td>\n",
       "      <td>0</td>\n",
       "      <td>0</td>\n",
       "      <td>0</td>\n",
       "      <td>0</td>\n",
       "      <td>0</td>\n",
       "      <td>0</td>\n",
       "      <td>0</td>\n",
       "    </tr>\n",
       "    <tr>\n",
       "      <th>135006</th>\n",
       "      <td>2015</td>\n",
       "      <td>9</td>\n",
       "      <td>HORIZON AIR</td>\n",
       "      <td>DHC8 DASH 8</td>\n",
       "      <td>A</td>\n",
       "      <td>303</td>\n",
       "      <td>10</td>\n",
       "      <td>3.0</td>\n",
       "      <td>31.0</td>\n",
       "      <td>10</td>\n",
       "      <td>...</td>\n",
       "      <td>1</td>\n",
       "      <td>0</td>\n",
       "      <td>0</td>\n",
       "      <td>0</td>\n",
       "      <td>0</td>\n",
       "      <td>0</td>\n",
       "      <td>0</td>\n",
       "      <td>0</td>\n",
       "      <td>0</td>\n",
       "      <td>0</td>\n",
       "    </tr>\n",
       "    <tr>\n",
       "      <th>135007</th>\n",
       "      <td>2015</td>\n",
       "      <td>9</td>\n",
       "      <td>AIR WISCONSIN AIRLINES</td>\n",
       "      <td>CRJ100/200</td>\n",
       "      <td>A</td>\n",
       "      <td>188</td>\n",
       "      <td>10</td>\n",
       "      <td>3.0</td>\n",
       "      <td>22.0</td>\n",
       "      <td>4</td>\n",
       "      <td>...</td>\n",
       "      <td>0</td>\n",
       "      <td>0</td>\n",
       "      <td>0</td>\n",
       "      <td>0</td>\n",
       "      <td>0</td>\n",
       "      <td>0</td>\n",
       "      <td>0</td>\n",
       "      <td>0</td>\n",
       "      <td>1</td>\n",
       "      <td>0</td>\n",
       "    </tr>\n",
       "  </tbody>\n",
       "</table>\n",
       "<p>57417 rows × 60 columns</p>\n",
       "</div>"
      ],
      "text/plain": [
       "        Incident Year  Incident Month                Operator        Aircraft  \\\n",
       "77591            2011               1             HORIZON AIR     DHC8 DASH 8   \n",
       "77592            2011               1    GREAT LAKES AIRLINES           BE-19   \n",
       "77593            2011               1    GREAT LAKES AIRLINES         BE-1900   \n",
       "77594            2011               1    GREAT LAKES AIRLINES         BE-1900   \n",
       "77595            2011               1                BUSINESS  GULFSTREAM 200   \n",
       "...               ...             ...                     ...             ...   \n",
       "135003           2015               9      SOUTHWEST AIRLINES       B-737-700   \n",
       "135004           2015               9      SOUTHWEST AIRLINES       B-737-700   \n",
       "135005           2015               9                BUSINESS     CITATIONJET   \n",
       "135006           2015               9             HORIZON AIR     DHC8 DASH 8   \n",
       "135007           2015               9  AIR WISCONSIN AIRLINES      CRJ100/200   \n",
       "\n",
       "       Aircraft Type Aircraft Make Aircraft Model  Aircraft Mass  Engine Make  \\\n",
       "77591              A           303           10.0            3.0         31.0   \n",
       "77592              A           123            3.0            1.0          7.0   \n",
       "77593              A           123           27.0            3.0         31.0   \n",
       "77594              A           123           27.0            3.0         31.0   \n",
       "77595              A           417            NaN            3.0         31.0   \n",
       "...              ...           ...            ...            ...          ...   \n",
       "135003             A           148             42            4.0         10.0   \n",
       "135004             A           148             42            4.0         10.0   \n",
       "135005             A           226             49            2.0         46.0   \n",
       "135006             A           303             10            3.0         31.0   \n",
       "135007             A           188             10            3.0         22.0   \n",
       "\n",
       "       Engine Model  ...  Fuselage Strike Fuselage Damage Landing Gear Strike  \\\n",
       "77591            10  ...                0               0                   0   \n",
       "77592            10  ...                0               0                   0   \n",
       "77593             4  ...                1               0                   0   \n",
       "77594             4  ...                0               0                   0   \n",
       "77595            14  ...                0               0                   0   \n",
       "...             ...  ...              ...             ...                 ...   \n",
       "135003            1  ...                0               0                   0   \n",
       "135004            1  ...                0               0                   0   \n",
       "135005            1  ...                1               1                   0   \n",
       "135006           10  ...                1               0                   0   \n",
       "135007            4  ...                0               0                   0   \n",
       "\n",
       "        Landing Gear Damage Tail Strike  Tail Damage Lights Strike  \\\n",
       "77591                     0           0            0             0   \n",
       "77592                     0           0            0             0   \n",
       "77593                     0           0            0             0   \n",
       "77594                     0           0            0             0   \n",
       "77595                     0           0            0             0   \n",
       "...                     ...         ...          ...           ...   \n",
       "135003                    0           0            0             0   \n",
       "135004                    0           0            0             0   \n",
       "135005                    0           0            0             0   \n",
       "135006                    0           0            0             0   \n",
       "135007                    0           0            0             0   \n",
       "\n",
       "       Lights Damage Other Strike Other Damage  \n",
       "77591              0            0            0  \n",
       "77592              0            0            0  \n",
       "77593              0            0            0  \n",
       "77594              0            0            0  \n",
       "77595              0            0            0  \n",
       "...              ...          ...          ...  \n",
       "135003             0            0            0  \n",
       "135004             0            0            0  \n",
       "135005             0            0            0  \n",
       "135006             0            0            0  \n",
       "135007             0            1            0  \n",
       "\n",
       "[57417 rows x 60 columns]"
      ]
     },
     "execution_count": 18,
     "metadata": {},
     "output_type": "execute_result"
    }
   ],
   "source": [
    "aws_df[aws_df.loc[:,'Incident Year']>=2011]"
   ]
  },
  {
   "cell_type": "markdown",
   "id": "29471d2c-58fb-43f3-a8ce-de36586a30fe",
   "metadata": {},
   "source": [
    "The answer is 57417 incidents."
   ]
  },
  {
   "cell_type": "markdown",
   "id": "8ed41b51-5184-40de-be2d-53ec85b46479",
   "metadata": {},
   "source": [
    "# Q6"
   ]
  },
  {
   "cell_type": "code",
   "execution_count": 19,
   "id": "9d76f963-1ece-4378-b83e-cdf1e94408f8",
   "metadata": {},
   "outputs": [],
   "source": [
    "aws_df_2014 = aws_df[aws_df.loc[:,'Incident Year']==2014]"
   ]
  },
  {
   "cell_type": "code",
   "execution_count": 20,
   "id": "5b643ac4-ca1e-4aef-8649-1fe141a71b3f",
   "metadata": {},
   "outputs": [
    {
     "data": {
      "text/plain": [
       "623"
      ]
     },
     "execution_count": 20,
     "metadata": {},
     "output_type": "execute_result"
    }
   ],
   "source": [
    "len(aws_df_2014[aws_df_2014.loc[:,'Aircraft']=='A-320'])"
   ]
  },
  {
   "cell_type": "markdown",
   "id": "35b16cf9-7cab-4761-af32-e9ddd995fdf8",
   "metadata": {},
   "source": [
    "The answer is 623 incidents."
   ]
  },
  {
   "cell_type": "markdown",
   "id": "bbf421a4-4e7e-4ca4-9b62-d9aa124fbdaf",
   "metadata": {},
   "source": [
    "# Q7"
   ]
  },
  {
   "cell_type": "code",
   "execution_count": 27,
   "id": "cc1eda0e-e7be-4d3c-9f8c-e1c40322793f",
   "metadata": {},
   "outputs": [
    {
     "data": {
      "text/html": [
       "<div>\n",
       "<style scoped>\n",
       "    .dataframe tbody tr th:only-of-type {\n",
       "        vertical-align: middle;\n",
       "    }\n",
       "\n",
       "    .dataframe tbody tr th {\n",
       "        vertical-align: top;\n",
       "    }\n",
       "\n",
       "    .dataframe thead th {\n",
       "        text-align: right;\n",
       "    }\n",
       "</style>\n",
       "<table border=\"1\" class=\"dataframe\">\n",
       "  <thead>\n",
       "    <tr style=\"text-align: right;\">\n",
       "      <th></th>\n",
       "      <th>Speed</th>\n",
       "    </tr>\n",
       "  </thead>\n",
       "  <tbody>\n",
       "    <tr>\n",
       "      <th>40162</th>\n",
       "      <td>250.0</td>\n",
       "    </tr>\n",
       "    <tr>\n",
       "      <th>42605</th>\n",
       "      <td>190.0</td>\n",
       "    </tr>\n",
       "    <tr>\n",
       "      <th>50944</th>\n",
       "      <td>250.0</td>\n",
       "    </tr>\n",
       "    <tr>\n",
       "      <th>66237</th>\n",
       "      <td>210.0</td>\n",
       "    </tr>\n",
       "    <tr>\n",
       "      <th>69111</th>\n",
       "      <td>230.0</td>\n",
       "    </tr>\n",
       "    <tr>\n",
       "      <th>107190</th>\n",
       "      <td>250.0</td>\n",
       "    </tr>\n",
       "    <tr>\n",
       "      <th>128155</th>\n",
       "      <td>190.0</td>\n",
       "    </tr>\n",
       "  </tbody>\n",
       "</table>\n",
       "</div>"
      ],
      "text/plain": [
       "        Speed\n",
       "40162   250.0\n",
       "42605   190.0\n",
       "50944   250.0\n",
       "66237   210.0\n",
       "69111   230.0\n",
       "107190  250.0\n",
       "128155  190.0"
      ]
     },
     "execution_count": 27,
     "metadata": {},
     "output_type": "execute_result"
    }
   ],
   "source": [
    "aws_df_D23_avr = aws_df[(aws_df.Distance == 23) & (aws_df.Speed >=0)]\n",
    "pd.DataFrame(aws_df_D23_avr.Speed)"
   ]
  },
  {
   "cell_type": "markdown",
   "id": "56e2b557-f549-4227-8eb2-a371bbd6a90d",
   "metadata": {},
   "source": [
    "We have 7 events so it is considered a harmonic average in this way:\n",
    "7 divided by the sum of 1 divided by the speed, on each plane."
   ]
  },
  {
   "cell_type": "markdown",
   "id": "f0f0ceb6-8a27-4a79-a1df-b7e2c832328e",
   "metadata": {},
   "source": [
    "The harmonic average speed of the planes that traveled a distance of 23 miles is: 221.266561"
   ]
  }
 ],
 "metadata": {
  "kernelspec": {
   "display_name": "Python 3 (ipykernel)",
   "language": "python",
   "name": "python3"
  },
  "language_info": {
   "codemirror_mode": {
    "name": "ipython",
    "version": 3
   },
   "file_extension": ".py",
   "mimetype": "text/x-python",
   "name": "python",
   "nbconvert_exporter": "python",
   "pygments_lexer": "ipython3",
   "version": "3.9.13"
  }
 },
 "nbformat": 4,
 "nbformat_minor": 5
}
